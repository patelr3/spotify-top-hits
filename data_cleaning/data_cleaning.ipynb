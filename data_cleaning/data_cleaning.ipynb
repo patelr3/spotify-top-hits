{
 "cells": [
  {
   "cell_type": "markdown",
   "metadata": {},
   "source": [
    "# Converting the Spotify Dataset\n",
    "This Jupyter Notebook will convert the dataset in `dataset/songs_normalize.csv` to and updated version of the dataset. The main updates are below.\n",
    "\n",
    "- Append a new column for each genre in the original `genres` column. The value of each column is either True if that song is part of that genre, or False otherwise.\n",
    "- Append a new column called `hasFeature` based on whether the song has a feature on the song title. A song is classified as having a \"feature\" if the title has one of the following keywords: `'feature', 'feat', 'ft', 'featuring', '(with', 'vs', 'vs.'`.\n",
    "\n",
    "The updated dataset is stored in `dataset/songs_updated_v4.csv`."
   ]
  },
  {
   "cell_type": "code",
   "execution_count": 1,
   "metadata": {},
   "outputs": [],
   "source": [
    "import pandas as pd"
   ]
  },
  {
   "cell_type": "code",
   "execution_count": 2,
   "metadata": {},
   "outputs": [],
   "source": [
    "# Load dataset\n",
    "song_df = pd.read_csv('../dataset/songs_normalize.csv')\n"
   ]
  },
  {
   "cell_type": "markdown",
   "metadata": {},
   "source": [
    "## Adding the `isGenre` columns\n",
    "To create a new column for each genre, first we must find all the possible genres based on the values in the dataset. The original genre column contains a comma-separated list of genres. This will create a `set` with all the values of genre that we can find.\n",
    "\n",
    "Then we create a dictionary with the key as the genre name and the values as a list of boolean values based on whether the song is part of the genre or not.\n",
    "\n",
    "There are a few caveats to note:\n",
    "- There are a few data points with no genre. Their values are `set()`. Instead of including that column, we remove that column.\n",
    "- We prefix the new column names with `is`. As an example, `ispop` is one of the columns."
   ]
  },
  {
   "cell_type": "code",
   "execution_count": 3,
   "metadata": {},
   "outputs": [
    {
     "name": "stdout",
     "output_type": "stream",
     "text": [
      "{'jazz', 'country', 'rock', 'pop', 'hip hop', 'Folk/Acoustic', 'R&B', 'latin', 'Dance/Electronic', 'easy listening', 'set()', 'metal', 'classical', 'blues', 'World/Traditional'}\n"
     ]
    }
   ],
   "source": [
    "# Get list of all genres\n",
    "genre_set = set()\n",
    "for genres in song_df['genre'].values:\n",
    "    genre_list = genres.split(',')\n",
    "    for genre in genre_list:\n",
    "        genre_set.add(genre.strip())\n",
    "print(genre_set)"
   ]
  },
  {
   "cell_type": "code",
   "execution_count": 4,
   "metadata": {},
   "outputs": [
    {
     "name": "stdout",
     "output_type": "stream",
     "text": [
      "jazz -> is_jazz\n",
      "country -> is_country\n",
      "rock -> is_rock\n",
      "pop -> is_pop\n",
      "hip hop -> is_hip_hop\n",
      "Folk/Acoustic -> is_folk_acoustic\n",
      "R&B -> is_r&b\n",
      "latin -> is_latin\n",
      "Dance/Electronic -> is_dance_electronic\n",
      "easy listening -> is_easy_listening\n",
      "metal -> is_metal\n",
      "classical -> is_classical\n",
      "blues -> is_blues\n",
      "World/Traditional -> is_world_traditional\n"
     ]
    }
   ],
   "source": [
    "# Populate a dictionary with the genres as keys and a list of True/False as values\n",
    "# depending on whether the song is of that genre or not\n",
    "# Make sure to ignore 'set()'\n",
    "genre_dict = dict()\n",
    "for genre in genre_set:\n",
    "    if genre == 'set()':\n",
    "        continue\n",
    "    is_genre = []\n",
    "    for genres in song_df['genre'].values:\n",
    "        if genre in genres:\n",
    "            is_genre.append(True)\n",
    "        else:\n",
    "            is_genre.append(False)\n",
    "    genre_cleaned = 'is_' + genre.lower().replace(' ', '_').replace('/', '_')\n",
    "    print(f'{genre} -> {genre_cleaned}')\n",
    "    genre_dict[genre_cleaned] = is_genre"
   ]
  },
  {
   "cell_type": "code",
   "execution_count": 5,
   "metadata": {},
   "outputs": [
    {
     "name": "stdout",
     "output_type": "stream",
     "text": [
      "is_jazz: [False, False, False, False, False]\n",
      "is_country: [False, False, True, False, False]\n",
      "is_rock: [False, True, False, True, False]\n",
      "is_pop: [True, True, True, False, True]\n",
      "is_hip_hop: [False, False, False, False, False]\n",
      "is_folk_acoustic: [False, False, False, False, False]\n",
      "is_r&b: [False, False, False, False, False]\n",
      "is_latin: [False, False, False, False, False]\n",
      "is_dance_electronic: [False, False, False, False, False]\n",
      "is_easy_listening: [False, False, False, False, False]\n",
      "is_metal: [False, False, False, True, False]\n",
      "is_classical: [False, False, False, False, False]\n",
      "is_blues: [False, False, False, False, False]\n",
      "is_world_traditional: [False, False, False, False, False]\n"
     ]
    },
    {
     "data": {
      "text/html": [
       "<div>\n",
       "<style scoped>\n",
       "    .dataframe tbody tr th:only-of-type {\n",
       "        vertical-align: middle;\n",
       "    }\n",
       "\n",
       "    .dataframe tbody tr th {\n",
       "        vertical-align: top;\n",
       "    }\n",
       "\n",
       "    .dataframe thead th {\n",
       "        text-align: right;\n",
       "    }\n",
       "</style>\n",
       "<table border=\"1\" class=\"dataframe\">\n",
       "  <thead>\n",
       "    <tr style=\"text-align: right;\">\n",
       "      <th></th>\n",
       "      <th>is_jazz</th>\n",
       "      <th>is_country</th>\n",
       "      <th>is_rock</th>\n",
       "      <th>is_pop</th>\n",
       "      <th>is_hip_hop</th>\n",
       "      <th>is_folk_acoustic</th>\n",
       "      <th>is_r&amp;b</th>\n",
       "      <th>is_latin</th>\n",
       "      <th>is_dance_electronic</th>\n",
       "      <th>is_easy_listening</th>\n",
       "      <th>is_metal</th>\n",
       "      <th>is_classical</th>\n",
       "      <th>is_blues</th>\n",
       "      <th>is_world_traditional</th>\n",
       "    </tr>\n",
       "  </thead>\n",
       "  <tbody>\n",
       "    <tr>\n",
       "      <th>0</th>\n",
       "      <td>False</td>\n",
       "      <td>False</td>\n",
       "      <td>False</td>\n",
       "      <td>True</td>\n",
       "      <td>False</td>\n",
       "      <td>False</td>\n",
       "      <td>False</td>\n",
       "      <td>False</td>\n",
       "      <td>False</td>\n",
       "      <td>False</td>\n",
       "      <td>False</td>\n",
       "      <td>False</td>\n",
       "      <td>False</td>\n",
       "      <td>False</td>\n",
       "    </tr>\n",
       "    <tr>\n",
       "      <th>1</th>\n",
       "      <td>False</td>\n",
       "      <td>False</td>\n",
       "      <td>True</td>\n",
       "      <td>True</td>\n",
       "      <td>False</td>\n",
       "      <td>False</td>\n",
       "      <td>False</td>\n",
       "      <td>False</td>\n",
       "      <td>False</td>\n",
       "      <td>False</td>\n",
       "      <td>False</td>\n",
       "      <td>False</td>\n",
       "      <td>False</td>\n",
       "      <td>False</td>\n",
       "    </tr>\n",
       "    <tr>\n",
       "      <th>2</th>\n",
       "      <td>False</td>\n",
       "      <td>True</td>\n",
       "      <td>False</td>\n",
       "      <td>True</td>\n",
       "      <td>False</td>\n",
       "      <td>False</td>\n",
       "      <td>False</td>\n",
       "      <td>False</td>\n",
       "      <td>False</td>\n",
       "      <td>False</td>\n",
       "      <td>False</td>\n",
       "      <td>False</td>\n",
       "      <td>False</td>\n",
       "      <td>False</td>\n",
       "    </tr>\n",
       "    <tr>\n",
       "      <th>3</th>\n",
       "      <td>False</td>\n",
       "      <td>False</td>\n",
       "      <td>True</td>\n",
       "      <td>False</td>\n",
       "      <td>False</td>\n",
       "      <td>False</td>\n",
       "      <td>False</td>\n",
       "      <td>False</td>\n",
       "      <td>False</td>\n",
       "      <td>False</td>\n",
       "      <td>True</td>\n",
       "      <td>False</td>\n",
       "      <td>False</td>\n",
       "      <td>False</td>\n",
       "    </tr>\n",
       "    <tr>\n",
       "      <th>4</th>\n",
       "      <td>False</td>\n",
       "      <td>False</td>\n",
       "      <td>False</td>\n",
       "      <td>True</td>\n",
       "      <td>False</td>\n",
       "      <td>False</td>\n",
       "      <td>False</td>\n",
       "      <td>False</td>\n",
       "      <td>False</td>\n",
       "      <td>False</td>\n",
       "      <td>False</td>\n",
       "      <td>False</td>\n",
       "      <td>False</td>\n",
       "      <td>False</td>\n",
       "    </tr>\n",
       "  </tbody>\n",
       "</table>\n",
       "</div>"
      ],
      "text/plain": [
       "   is_jazz  is_country  is_rock  is_pop  is_hip_hop  is_folk_acoustic  is_r&b  \\\n",
       "0    False       False    False    True       False             False   False   \n",
       "1    False       False     True    True       False             False   False   \n",
       "2    False        True    False    True       False             False   False   \n",
       "3    False       False     True   False       False             False   False   \n",
       "4    False       False    False    True       False             False   False   \n",
       "\n",
       "   is_latin  is_dance_electronic  is_easy_listening  is_metal  is_classical  \\\n",
       "0     False                False              False     False         False   \n",
       "1     False                False              False     False         False   \n",
       "2     False                False              False     False         False   \n",
       "3     False                False              False      True         False   \n",
       "4     False                False              False     False         False   \n",
       "\n",
       "   is_blues  is_world_traditional  \n",
       "0     False                 False  \n",
       "1     False                 False  \n",
       "2     False                 False  \n",
       "3     False                 False  \n",
       "4     False                 False  "
      ]
     },
     "execution_count": 5,
     "metadata": {},
     "output_type": "execute_result"
    }
   ],
   "source": [
    "# Check output of genre_dict and convert to a data frame\n",
    "for genre, is_genre in genre_dict.items():\n",
    "    print(f'{genre}: {is_genre[:5]}')\n",
    "\n",
    "genres_df = pd.DataFrame(genre_dict)\n",
    "genres_df.head()"
   ]
  },
  {
   "cell_type": "code",
   "execution_count": 6,
   "metadata": {},
   "outputs": [
    {
     "data": {
      "text/html": [
       "<div>\n",
       "<style scoped>\n",
       "    .dataframe tbody tr th:only-of-type {\n",
       "        vertical-align: middle;\n",
       "    }\n",
       "\n",
       "    .dataframe tbody tr th {\n",
       "        vertical-align: top;\n",
       "    }\n",
       "\n",
       "    .dataframe thead th {\n",
       "        text-align: right;\n",
       "    }\n",
       "</style>\n",
       "<table border=\"1\" class=\"dataframe\">\n",
       "  <thead>\n",
       "    <tr style=\"text-align: right;\">\n",
       "      <th></th>\n",
       "      <th>artist</th>\n",
       "      <th>song</th>\n",
       "      <th>duration_ms</th>\n",
       "      <th>explicit</th>\n",
       "      <th>year</th>\n",
       "      <th>popularity</th>\n",
       "      <th>danceability</th>\n",
       "      <th>energy</th>\n",
       "      <th>key</th>\n",
       "      <th>loudness</th>\n",
       "      <th>...</th>\n",
       "      <th>is_hip_hop</th>\n",
       "      <th>is_folk_acoustic</th>\n",
       "      <th>is_r&amp;b</th>\n",
       "      <th>is_latin</th>\n",
       "      <th>is_dance_electronic</th>\n",
       "      <th>is_easy_listening</th>\n",
       "      <th>is_metal</th>\n",
       "      <th>is_classical</th>\n",
       "      <th>is_blues</th>\n",
       "      <th>is_world_traditional</th>\n",
       "    </tr>\n",
       "  </thead>\n",
       "  <tbody>\n",
       "    <tr>\n",
       "      <th>0</th>\n",
       "      <td>Britney Spears</td>\n",
       "      <td>Oops!...I Did It Again</td>\n",
       "      <td>211160</td>\n",
       "      <td>False</td>\n",
       "      <td>2000</td>\n",
       "      <td>77</td>\n",
       "      <td>0.751</td>\n",
       "      <td>0.834</td>\n",
       "      <td>1</td>\n",
       "      <td>-5.444</td>\n",
       "      <td>...</td>\n",
       "      <td>False</td>\n",
       "      <td>False</td>\n",
       "      <td>False</td>\n",
       "      <td>False</td>\n",
       "      <td>False</td>\n",
       "      <td>False</td>\n",
       "      <td>False</td>\n",
       "      <td>False</td>\n",
       "      <td>False</td>\n",
       "      <td>False</td>\n",
       "    </tr>\n",
       "    <tr>\n",
       "      <th>1</th>\n",
       "      <td>blink-182</td>\n",
       "      <td>All The Small Things</td>\n",
       "      <td>167066</td>\n",
       "      <td>False</td>\n",
       "      <td>1999</td>\n",
       "      <td>79</td>\n",
       "      <td>0.434</td>\n",
       "      <td>0.897</td>\n",
       "      <td>0</td>\n",
       "      <td>-4.918</td>\n",
       "      <td>...</td>\n",
       "      <td>False</td>\n",
       "      <td>False</td>\n",
       "      <td>False</td>\n",
       "      <td>False</td>\n",
       "      <td>False</td>\n",
       "      <td>False</td>\n",
       "      <td>False</td>\n",
       "      <td>False</td>\n",
       "      <td>False</td>\n",
       "      <td>False</td>\n",
       "    </tr>\n",
       "    <tr>\n",
       "      <th>2</th>\n",
       "      <td>Faith Hill</td>\n",
       "      <td>Breathe</td>\n",
       "      <td>250546</td>\n",
       "      <td>False</td>\n",
       "      <td>1999</td>\n",
       "      <td>66</td>\n",
       "      <td>0.529</td>\n",
       "      <td>0.496</td>\n",
       "      <td>7</td>\n",
       "      <td>-9.007</td>\n",
       "      <td>...</td>\n",
       "      <td>False</td>\n",
       "      <td>False</td>\n",
       "      <td>False</td>\n",
       "      <td>False</td>\n",
       "      <td>False</td>\n",
       "      <td>False</td>\n",
       "      <td>False</td>\n",
       "      <td>False</td>\n",
       "      <td>False</td>\n",
       "      <td>False</td>\n",
       "    </tr>\n",
       "    <tr>\n",
       "      <th>3</th>\n",
       "      <td>Bon Jovi</td>\n",
       "      <td>It's My Life</td>\n",
       "      <td>224493</td>\n",
       "      <td>False</td>\n",
       "      <td>2000</td>\n",
       "      <td>78</td>\n",
       "      <td>0.551</td>\n",
       "      <td>0.913</td>\n",
       "      <td>0</td>\n",
       "      <td>-4.063</td>\n",
       "      <td>...</td>\n",
       "      <td>False</td>\n",
       "      <td>False</td>\n",
       "      <td>False</td>\n",
       "      <td>False</td>\n",
       "      <td>False</td>\n",
       "      <td>False</td>\n",
       "      <td>True</td>\n",
       "      <td>False</td>\n",
       "      <td>False</td>\n",
       "      <td>False</td>\n",
       "    </tr>\n",
       "    <tr>\n",
       "      <th>4</th>\n",
       "      <td>*NSYNC</td>\n",
       "      <td>Bye Bye Bye</td>\n",
       "      <td>200560</td>\n",
       "      <td>False</td>\n",
       "      <td>2000</td>\n",
       "      <td>65</td>\n",
       "      <td>0.614</td>\n",
       "      <td>0.928</td>\n",
       "      <td>8</td>\n",
       "      <td>-4.806</td>\n",
       "      <td>...</td>\n",
       "      <td>False</td>\n",
       "      <td>False</td>\n",
       "      <td>False</td>\n",
       "      <td>False</td>\n",
       "      <td>False</td>\n",
       "      <td>False</td>\n",
       "      <td>False</td>\n",
       "      <td>False</td>\n",
       "      <td>False</td>\n",
       "      <td>False</td>\n",
       "    </tr>\n",
       "  </tbody>\n",
       "</table>\n",
       "<p>5 rows × 32 columns</p>\n",
       "</div>"
      ],
      "text/plain": [
       "           artist                    song  duration_ms  explicit  year  \\\n",
       "0  Britney Spears  Oops!...I Did It Again       211160     False  2000   \n",
       "1       blink-182    All The Small Things       167066     False  1999   \n",
       "2      Faith Hill                 Breathe       250546     False  1999   \n",
       "3        Bon Jovi            It's My Life       224493     False  2000   \n",
       "4          *NSYNC             Bye Bye Bye       200560     False  2000   \n",
       "\n",
       "   popularity  danceability  energy  key  loudness  ...  is_hip_hop  \\\n",
       "0          77         0.751   0.834    1    -5.444  ...       False   \n",
       "1          79         0.434   0.897    0    -4.918  ...       False   \n",
       "2          66         0.529   0.496    7    -9.007  ...       False   \n",
       "3          78         0.551   0.913    0    -4.063  ...       False   \n",
       "4          65         0.614   0.928    8    -4.806  ...       False   \n",
       "\n",
       "   is_folk_acoustic  is_r&b  is_latin  is_dance_electronic  is_easy_listening  \\\n",
       "0             False   False     False                False              False   \n",
       "1             False   False     False                False              False   \n",
       "2             False   False     False                False              False   \n",
       "3             False   False     False                False              False   \n",
       "4             False   False     False                False              False   \n",
       "\n",
       "   is_metal is_classical  is_blues  is_world_traditional  \n",
       "0     False        False     False                 False  \n",
       "1     False        False     False                 False  \n",
       "2     False        False     False                 False  \n",
       "3      True        False     False                 False  \n",
       "4     False        False     False                 False  \n",
       "\n",
       "[5 rows x 32 columns]"
      ]
     },
     "execution_count": 6,
     "metadata": {},
     "output_type": "execute_result"
    }
   ],
   "source": [
    "# Append the data frame to the existing one\n",
    "song_updated_df = song_df.copy()\n",
    "song_updated_df = pd.concat([song_updated_df, genres_df], axis=1, sort=True)\n",
    "song_updated_df.head()\n"
   ]
  },
  {
   "cell_type": "markdown",
   "metadata": {},
   "source": [
    "## Adding the `hasFeature` column\n",
    "Now, time to search for the list of keywords in a song title to determine whether a song has a feature or not. Once we know this, we can append this new column as well to the dataset."
   ]
  },
  {
   "cell_type": "code",
   "execution_count": 7,
   "metadata": {},
   "outputs": [],
   "source": [
    "# Add a hasFeature column\n",
    "# Cannot use just 'with' as this returns all song titles with 'with' in the actual\n",
    "# song title. So instead use '(with' which seems to be more accurate\n",
    "feature_keywords = {'feature', 'feat', 'ft', 'featuring', '(with', 'vs', 'vs.'}\n",
    "\n",
    "has_feature = []\n",
    "for song_title in song_df['song']:\n",
    "    has_feature.append(any(keyword in song_title for keyword in feature_keywords))"
   ]
  },
  {
   "cell_type": "code",
   "execution_count": 8,
   "metadata": {},
   "outputs": [],
   "source": [
    "# Append new data to existing data frame\n",
    "song_updated_df['has_feature'] = has_feature"
   ]
  },
  {
   "cell_type": "markdown",
   "metadata": {},
   "source": [
    "## Remove duplicate song titles\n",
    "There are some songs that appear in the dataset multiple times because they appear in the top hits of the year playlist on spotify throughout multiple years. This may skew our visualization and training data, so instead I will remove duplicates and add a new column that counts how many times a song has appeared on the top hits playlist."
   ]
  },
  {
   "cell_type": "code",
   "execution_count": 10,
   "metadata": {},
   "outputs": [],
   "source": [
    "# dp_rows = song_updated_df.duplicated(subset=['song', 'artist'], keep='last')\n",
    "# dp_rows = dp_rows[dp_rows == True]\n",
    "# print(len(dp_rows))\n",
    "\n",
    "# dp_rows_2 = song_updated_df.duplicated()\n",
    "# dp_rows_2 = dp_rows_2[dp_rows_2 == True]\n",
    "# print(len(dp_rows_2))"
   ]
  },
  {
   "cell_type": "code",
   "execution_count": 11,
   "metadata": {},
   "outputs": [],
   "source": [
    "# song_count = dict()\n",
    "# for index, row in song_df.iterrows():\n",
    "#     key = index\n",
    "#     song_count[key] = song_count.get(key, 0) + 1\n"
   ]
  },
  {
   "cell_type": "code",
   "execution_count": 12,
   "metadata": {},
   "outputs": [],
   "source": [
    "song_updated_df.drop_duplicates(inplace=True)"
   ]
  },
  {
   "cell_type": "code",
   "execution_count": 13,
   "metadata": {},
   "outputs": [],
   "source": [
    "# song_count_list = []\n",
    "# for index, row in song_updated_df.iterrows():\n",
    "#     key = row['song'] + '-' + row['artist']\n",
    "#     song_count_list.append(song_count[key])\n",
    "\n",
    "# song_updated_df['num_years'] = song_count_list"
   ]
  },
  {
   "cell_type": "code",
   "execution_count": 14,
   "metadata": {},
   "outputs": [],
   "source": [
    "# song_updated_df[song_updated_df['num_years'] > 1].head()"
   ]
  },
  {
   "cell_type": "markdown",
   "metadata": {},
   "source": [
    "## Saving the new dataset\n",
    "The dataset has been updated as we had hoped. Now we can save the new dataset under a new name `songs_updated_v4.csv`!"
   ]
  },
  {
   "cell_type": "code",
   "execution_count": 15,
   "metadata": {},
   "outputs": [],
   "source": [
    "# Write updated data frame to CSV\n",
    "song_updated_df.to_csv('../dataset/songs_updated_v4.csv', index=False)"
   ]
  },
  {
   "cell_type": "code",
   "execution_count": 16,
   "metadata": {},
   "outputs": [],
   "source": [
    "import matplotlib.pyplot as plt\n",
    "import numpy as np"
   ]
  },
  {
   "cell_type": "code",
   "execution_count": 17,
   "metadata": {},
   "outputs": [
    {
     "data": {
      "image/png": "[encoded data removed]",
      "text/plain": [
       "<Figure size 640x480 with 1 Axes>"
      ]
     },
     "metadata": {},
     "output_type": "display_data"
    }
   ],
   "source": [
    "song_has_feature = song_updated_df[song_updated_df['has_feature'] == True]\n",
    "song_no_feature = song_updated_df[song_updated_df['has_feature'] == False]\n",
    "\n",
    "plt.hist(song_has_feature['popularity'], bins=20, alpha=0.7, label='Has Feature')\n",
    "plt.hist(song_no_feature['popularity'], bins=20, alpha=0.5, label='No Feature')\n",
    "plt.ylabel('Number of Songs')\n",
    "plt.xlabel('Features')\n",
    "plt.legend(loc='upper left')\n",
    "plt.show()"
   ]
  },
  {
   "cell_type": "code",
   "execution_count": 18,
   "metadata": {},
   "outputs": [
    {
     "data": {
      "image/png": "[encoded data removed]",
      "text/plain": [
       "<Figure size 640x480 with 1 Axes>"
      ]
     },
     "metadata": {},
     "output_type": "display_data"
    }
   ],
   "source": [
    "plt.boxplot(song_has_feature['popularity'])\n",
    "plt.boxplot(song_no_feature['popularity'])\n",
    "plt.ylabel('Popularity')\n",
    "plt.xlabel('Features')\n",
    "plt.show()"
   ]
  }
 ],
 "metadata": {
  "kernelspec": {
   "display_name": "Python 3.10.6 64-bit",
   "language": "python",
   "name": "python3"
  },
  "language_info": {
   "codemirror_mode": {
    "name": "ipython",
    "version": 3
   },
   "file_extension": ".py",
   "mimetype": "text/x-python",
   "name": "python",
   "nbconvert_exporter": "python",
   "pygments_lexer": "ipython3",
   "version": "3.10.6"
  },
  "orig_nbformat": 4,
  "vscode": {
   "interpreter": {
    "hash": "eb4a0ac80907d7f44e1a5e88d3d3381b33e3dbedd3a24d113e876f30a0c46bee"
   }
  }
 },
 "nbformat": 4,
 "nbformat_minor": 2
}
